{
 "cells": [
  {
   "cell_type": "markdown",
   "metadata": {},
   "source": [
    "First, we need to create the training data for the neural network, i.e. evaluations of the CA rules. Given a singular centered seed of 1 in the middle of a 0s array, the CA can only expand out by radius 1 cell each iteration. That is, at maximum it can only grow in a triangle. So it's useful to make the length of the initial array twice as long as the number of iterations to see everything that could happen with a rule. Alternatively, we could just look at a already full window way down in the iterations. For now, we'll start with the seed with, say, 40 iterations."
   ]
  },
  {
   "cell_type": "code",
   "execution_count": 1,
   "metadata": {
    "collapsed": true
   },
   "outputs": [],
   "source": [
    "import numpy as np\n",
    "from automaton import Rule, next_state\n",
    "\n",
    "def evaluated(index, niter, init=None, start=0):\n",
    "    rule = Rule(index)\n",
    "    if init is None:\n",
    "        init = np.zeros(2*niter)\n",
    "        init[niter] = 1\n",
    "    matrix = np.zeros((niter + 1, len(init)))\n",
    "    matrix[0, :] = init\n",
    "    for i in range(niter):\n",
    "        matrix[i + 1, :] = next_state(matrix[i, :], rule)\n",
    "    return matrix[start:, :]"
   ]
  },
  {
   "cell_type": "markdown",
   "metadata": {},
   "source": [
    "Now, let's just to make sure that this works properly..."
   ]
  },
  {
   "cell_type": "code",
   "execution_count": 2,
   "metadata": {
    "collapsed": false
   },
   "outputs": [
    {
     "data": {
      "image/png": "[encoded data removed]",
      "text/plain": [
       "<matplotlib.figure.Figure at 0x10bb6d6a0>"
      ]
     },
     "metadata": {},
     "output_type": "display_data"
    }
   ],
   "source": [
    "%matplotlib inline\n",
    "import matplotlib.pyplot as plt\n",
    "\n",
    "plt.imshow(evaluated(30, 20), interpolation='nearest', cmap='Greys')\n",
    "plt.show()"
   ]
  },
  {
   "cell_type": "markdown",
   "metadata": {},
   "source": [
    "Cool, now every rule will be a $(n + 1) \\times 2n$ matrix for $n$ iterations. And, we can unravel that to a long 1-dimensional vector for the input of the neural network. Let's now save all those unravelings for each rule:"
   ]
  },
  {
   "cell_type": "code",
   "execution_count": 3,
   "metadata": {
    "collapsed": false
   },
   "outputs": [
    {
     "name": "stderr",
     "output_type": "stream",
     "text": [
      "[100 %] elapsed[sec]: 4.520 | ETA[sec]: 0.000 \n",
      "Total time elapsed: 4.520 sec\n"
     ]
    }
   ],
   "source": [
    "from pyprind import ProgPercent\n",
    "\n",
    "NITER = 20\n",
    "inp = np.zeros((256, 2*NITER*(NITER + 1)))\n",
    "progbar = ProgPercent(256)\n",
    "for i in range(256):\n",
    "    inp[i, :] = evaluated(i, NITER).flatten()\n",
    "    progbar.update()"
   ]
  },
  {
   "cell_type": "markdown",
   "metadata": {},
   "source": [
    "And the output layer will simply be a single number representing the class. We'll gather together all the unique classes of the CAs and assign a number to each."
   ]
  },
  {
   "cell_type": "code",
   "execution_count": 4,
   "metadata": {
    "collapsed": false
   },
   "outputs": [
    {
     "data": {
      "text/plain": [
       "{'Chaotic': 5,\n",
       " 'Complex': 3,\n",
       " 'Fixed-Point': 2,\n",
       " 'Null': 1,\n",
       " 'Periodic': 4,\n",
       " 'Two-Cycle': 0}"
      ]
     },
     "execution_count": 4,
     "metadata": {},
     "output_type": "execute_result"
    }
   ],
   "source": [
    "from ca_train import ca_classes\n",
    "\n",
    "unique_labels = set(ca_classes.values())\n",
    "label2id = {label: i for i, label in enumerate(unique_labels)}\n",
    "id2label = {v: k for k, v in label2id.items()}\n",
    "label2id"
   ]
  },
  {
   "cell_type": "code",
   "execution_count": 5,
   "metadata": {
    "collapsed": false
   },
   "outputs": [],
   "source": [
    "out = np.array([label2id[ca_classes[i]] for i in range(256)])"
   ]
  },
  {
   "cell_type": "markdown",
   "metadata": {},
   "source": [
    "Now let's train that neural network!"
   ]
  },
  {
   "cell_type": "code",
   "execution_count": 6,
   "metadata": {
    "collapsed": false
   },
   "outputs": [
    {
     "data": {
      "text/plain": [
       "SVC(C=1.0, cache_size=200, class_weight=None, coef0=0.0, degree=5, gamma=0.0,\n",
       "  kernel='rbf', max_iter=-1, probability=False, random_state=None,\n",
       "  shrinking=True, tol=0.001, verbose=False)"
      ]
     },
     "execution_count": 6,
     "metadata": {},
     "output_type": "execute_result"
    }
   ],
   "source": [
    "from sklearn.svm import SVC\n",
    "\n",
    "clf = SVC(degree=5)\n",
    "clf.fit(inp, out)"
   ]
  },
  {
   "cell_type": "code",
   "execution_count": 7,
   "metadata": {
    "collapsed": false
   },
   "outputs": [
    {
     "data": {
      "text/plain": [
       "0.53515625"
      ]
     },
     "execution_count": 7,
     "metadata": {},
     "output_type": "execute_result"
    }
   ],
   "source": [
    "clf.score(inp, out)"
   ]
  }
 ],
 "metadata": {
  "kernelspec": {
   "display_name": "Python 3",
   "language": "python",
   "name": "python3"
  },
  "language_info": {
   "codemirror_mode": {
    "name": "ipython",
    "version": 3
   },
   "file_extension": ".py",
   "mimetype": "text/x-python",
   "name": "python",
   "nbconvert_exporter": "python",
   "pygments_lexer": "ipython3",
   "version": "3.4.3"
  }
 },
 "nbformat": 4,
 "nbformat_minor": 0
}
