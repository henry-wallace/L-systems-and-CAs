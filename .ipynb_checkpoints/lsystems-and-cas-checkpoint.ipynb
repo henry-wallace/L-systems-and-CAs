{
 "metadata": {
  "name": "",
  "signature": "sha256:fb76090e15e2167705faf1be0e2dc9fa2efdc0cc0f0050a0b2eef1e493146ea2"
 },
 "nbformat": 3,
 "nbformat_minor": 0,
 "worksheets": [
  {
   "cells": [
    {
     "cell_type": "markdown",
     "metadata": {},
     "source": [
      "# L-Systems & Cellular Automata\n",
      "This document outlines how to use the functions in `automation.py` and `lsystem.py`, and how to use the command-line tool `runner.py` that utilizes these two python files. "
     ]
    },
    {
     "cell_type": "markdown",
     "metadata": {},
     "source": [
      "## Using `automation.py`\n",
      "This file defines a class for making binary cellular automata rules, of arbitrary neighboorhood size. The neighboorhood size is the number of adjacent cells to look at, see 4, 8, and 24 below:\n",
      "![Neighboorhood size](https://www.openabm.org/files/books/1928/5a-Neighborhoods.png)\n",
      "\n",
      "If we have a neighborhood size of $k$ and a binary option for each position, then there are $2^k$ possible neighboorhoods. For each of these neighborhoods we can have a binary next state, thus having a total of $2^{2^k}$ possible rules for a neighborhood of size $k$. If we [lexicographically order](http://en.wikipedia.org/wiki/Lexicographical_order) these rules then we can assign an index to each rule of a certain neighborhood. Note that the neighborhood size can arbitrarily support multidimensional cellular automata if you create an enumeration scheme for the $n$-dimensional neighbors. For example:"
     ]
    },
    {
     "cell_type": "code",
     "collapsed": false,
     "input": [
      "from automaton import Rule\n",
      "\n",
      "r = Rule(120, neighbors=3)\n",
      "print(r)"
     ],
     "language": "python",
     "metadata": {},
     "outputs": [
      {
       "output_type": "stream",
       "stream": "stdout",
       "text": [
        "{(0, 0, 0): 0, (0, 0, 1): 1, (0, 1, 0): 1, (0, 1, 1): 1, (1, 0, 0): 1, (1, 0, 1): 0, (1, 1, 0): 0, (1, 1, 1): 0}\n"
       ]
      }
     ],
     "prompt_number": 10
    },
    {
     "cell_type": "markdown",
     "metadata": {},
     "source": [
      "The Rule object stores a dictionary of neighborhood tuples and also supports indexing:"
     ]
    },
    {
     "cell_type": "code",
     "collapsed": false,
     "input": [
      "r[(0, 0, 1)]"
     ],
     "language": "python",
     "metadata": {},
     "outputs": [
      {
       "metadata": {},
       "output_type": "pyout",
       "prompt_number": 11,
       "text": [
        "1"
       ]
      }
     ],
     "prompt_number": 11
    },
    {
     "cell_type": "markdown",
     "metadata": {},
     "source": [
      "Next, the `automata.py` file defines a function plot_rules, that takes in an initial array, an iterable of Rule objects and a number of iterations. So far this function only supports 1D initial arrays. If there are $x$ Rule objects then it creates an $n$ by $m$ subplot array of all the resultant cellular automata, where $x \\le nm$ and the loss $l(x, n, m) = |x - nm| + |n - m|$ is minimized. Here's an example:"
     ]
    },
    {
     "cell_type": "code",
     "collapsed": false,
     "input": [
      "%matplotlib inline\n",
      "from automaton import plot_rules\n",
      "\n",
      "rules = [Rule(i) for i in range(100, 120)]\n",
      "init_len = 40\n",
      "init = [1 if i == init_len//2 else 0 for i in range(init_len)]\n",
      "niter = init_len//2\n",
      "\n",
      "plot_rules(init, rules, niter)"
     ],
     "language": "python",
     "metadata": {},
     "outputs": [
      {
       "metadata": {},
       "output_type": "display_data",
       "png": "[encoded data removed]",
       "text": [
        "<matplotlib.figure.Figure at 0x109c723c8>"
       ]
      }
     ],
     "prompt_number": 12
    },
    {
     "cell_type": "markdown",
     "metadata": {},
     "source": [
      "The multidimensional functionality of `automaton.py` is still being worked on. In the future it will support animated cellular automata evaluation in multiple dimensions."
     ]
    },
    {
     "cell_type": "markdown",
     "metadata": {},
     "source": [
      "## Using `lsystem.py`\n",
      "This file defines a function `eval_rules` that takes in a dictionary that maps symbols to a string representing its production rule, the number iterations to apply those rules, and a starting symbol. For example, here is the simple Pythagoras Tree L-system:"
     ]
    },
    {
     "cell_type": "code",
     "collapsed": false,
     "input": [
      "from lsystem import eval_rules\n",
      "\n",
      "pythag_rules = {'1': '11', '0': '1[0]0'}\n",
      "init = '0'\n",
      "for i, niter in enumerate(range(5)):\n",
      "    print('iter #{}:\\t{}'.format(i, eval_rules(pythag_rules, niter, init=init)))"
     ],
     "language": "python",
     "metadata": {},
     "outputs": [
      {
       "output_type": "stream",
       "stream": "stdout",
       "text": [
        "iter #0:\t0\n",
        "iter #1:\t1[0]0\n",
        "iter #2:\t11[1[0]0]1[0]0\n",
        "iter #3:\t1111[11[1[0]0]1[0]0]11[1[0]0]1[0]0\n",
        "iter #4:\t11111111[1111[11[1[0]0]1[0]0]11[1[0]0]1[0]0]1111[11[1[0]0]1[0]0]11[1[0]0]1[0]0\n"
       ]
      }
     ],
     "prompt_number": 13
    },
    {
     "cell_type": "markdown",
     "metadata": {},
     "source": [
      "Also defined is the class `Drawer` for drawing an L-system given such a sequence string and a drawing rules dictionary who's keys are symbols of the L-system and who's values are either tuples of anonymous functions or just anonymous functions. Each lambda function takes in two parameters: a turtle object to continue drawing with, and a step size. Once the object is initialized, you can call the funciton `Drawer.draw` to see a `turtle` object evaluate the rules in real time. Unfortunately, at the time of this writing IPython does not support inline turtle graphics; so, I will link to snapshots of the results. I use the same Pythagoras tree example: "
     ]
    },
    {
     "cell_type": "code",
     "collapsed": false,
     "input": [
      "from lsystem import Drawer\n",
      "\n",
      "pythag_draw_rules = {'1': lambda t, step: t.forward(step), \n",
      "        '[': lambda t, step: t.left(45), ']': lambda t, step: t.right(45), \n",
      "        '0': lambda t, step: t.forward(step/2)}\n",
      "niter = 5\n",
      "pythag_seq = eval_rules(pythag_rules, niter, init='0')\n",
      "Drawer(pythag_seq, pythag_draw_rules).draw()"
     ],
     "language": "python",
     "metadata": {},
     "outputs": [],
     "prompt_number": 14
    },
    {
     "cell_type": "markdown",
     "metadata": {},
     "source": [
      "![Pythagoras L-system evaluated with 5 iterations](https://raw.githubusercontent.com/henry-wallace/L-systems-and-CAs/master/examples/pythag-tree-niter%3D5.png)"
     ]
    },
    {
     "cell_type": "markdown",
     "metadata": {},
     "source": [
      "Note that the Pythagoras L-system requires a [LIFO queue](http://en.wikipedia.org/wiki/Stack_(abstract_data_type) to store and retrieve the `turtle` pen's current direction and position everytime it respectively encounters the symbols `[` or `]`. The `Drawer` object does this automatically, assuming that the push and pop symbols of the L-system sequence are `[` and `]`. You can change this by providing the keyword argument `pushpop={}` for instance which would instead read the push and pop symbols as `{` and `}`, respectively. \n",
      "\n",
      "Further, the `draw` method rescales the window size so to center the resultant L-system drawing such that its size does not have to be pre-calculated. Given the result square pictures side length $n$, you can provide the keyword argument `margin` to be any float `x` to make a margin size of $n/(2x)$ around the resulting picture. By default this is $1/5$.\n",
      "\n",
      "The Drawer class also support `matplotlib` color maps (or objects that can be used like `matplotlib` color maps such those provided in the Python package [`palettable`](http://jiffyclub.github.io/palettable/). The class also supports keywords arguments for the drawing's pensize and initial angle of drawing. To show an example of all these options, we use the dragon L-system:"
     ]
    },
    {
     "cell_type": "code",
     "collapsed": false,
     "input": [
      "from palettable.wesanderson import Mendl_4\n",
      "\n",
      "cmap = Mendl_4.mpl_colormap\n",
      "pensize = 4\n",
      "niter = 8\n",
      "dragon_rules = {'X': 'X+YF+', 'Y': '-FX-Y'}\n",
      "dragon_seq = eval_rules(dragon_rules, niter=niter, init='FX')\n",
      "dragon_draw_rules = {'F': lambda t, step: t.forward(step), \n",
      "        '+': lambda t, step: t.right(90), '-': lambda t, step: t.left(90), \n",
      "        'X': (), 'Y': ()}\n",
      "Drawer(dragon_seq, dragon_draw_rules, cmap=cmap, pensize=pensize).draw()"
     ],
     "language": "python",
     "metadata": {},
     "outputs": [
      {
       "ename": "NameError",
       "evalue": "name 'dragon_seq' is not defined",
       "output_type": "pyerr",
       "traceback": [
        "\u001b[0;31m---------------------------------------------------------------------------\u001b[0m\n\u001b[0;31mNameError\u001b[0m                                 Traceback (most recent call last)",
        "\u001b[0;32m<ipython-input-15-113a2b9198bc>\u001b[0m in \u001b[0;36m<module>\u001b[0;34m()\u001b[0m\n\u001b[1;32m      9\u001b[0m         \u001b[0;34m'+'\u001b[0m\u001b[0;34m:\u001b[0m \u001b[0;32mlambda\u001b[0m \u001b[0mt\u001b[0m\u001b[0;34m,\u001b[0m \u001b[0mstep\u001b[0m\u001b[0;34m:\u001b[0m \u001b[0mt\u001b[0m\u001b[0;34m.\u001b[0m\u001b[0mright\u001b[0m\u001b[0;34m(\u001b[0m\u001b[0;36m90\u001b[0m\u001b[0;34m)\u001b[0m\u001b[0;34m,\u001b[0m \u001b[0;34m'-'\u001b[0m\u001b[0;34m:\u001b[0m \u001b[0;32mlambda\u001b[0m \u001b[0mt\u001b[0m\u001b[0;34m,\u001b[0m \u001b[0mstep\u001b[0m\u001b[0;34m:\u001b[0m \u001b[0mt\u001b[0m\u001b[0;34m.\u001b[0m\u001b[0mleft\u001b[0m\u001b[0;34m(\u001b[0m\u001b[0;36m90\u001b[0m\u001b[0;34m)\u001b[0m\u001b[0;34m,\u001b[0m\u001b[0;34m\u001b[0m\u001b[0m\n\u001b[1;32m     10\u001b[0m         'X': (), 'Y': ()}\n\u001b[0;32m---> 11\u001b[0;31m \u001b[0mDrawer\u001b[0m\u001b[0;34m(\u001b[0m\u001b[0mdragon_seq\u001b[0m\u001b[0;34m,\u001b[0m \u001b[0mdragon_draw_rules\u001b[0m\u001b[0;34m,\u001b[0m \u001b[0mcmap\u001b[0m\u001b[0;34m=\u001b[0m\u001b[0mcmap\u001b[0m\u001b[0;34m,\u001b[0m \u001b[0mpensize\u001b[0m\u001b[0;34m=\u001b[0m\u001b[0mpensize\u001b[0m\u001b[0;34m)\u001b[0m\u001b[0;34m.\u001b[0m\u001b[0mdraw\u001b[0m\u001b[0;34m(\u001b[0m\u001b[0;34m)\u001b[0m\u001b[0;34m\u001b[0m\u001b[0m\n\u001b[0m",
        "\u001b[0;31mNameError\u001b[0m: name 'dragon_seq' is not defined"
       ]
      }
     ],
     "prompt_number": 15
    },
    {
     "cell_type": "code",
     "collapsed": false,
     "input": [],
     "language": "python",
     "metadata": {},
     "outputs": []
    }
   ],
   "metadata": {}
  }
 ]
}